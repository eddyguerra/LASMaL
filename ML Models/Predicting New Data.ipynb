{
 "cells": [
  {
   "cell_type": "code",
   "execution_count": 6,
   "id": "37362fec-ea10-45f5-a869-a6e3e666dc25",
   "metadata": {},
   "outputs": [
    {
     "name": "stdout",
     "output_type": "stream",
     "text": [
      "✅ Renamed 'HR_normalized' to 'HR_Normalized'\n",
      "✅ Prediction column added: Activity_Pred_RF\n",
      "✅ File saved: All_Curated_Demog_Activity_Sleep5_min_N23_with_Activity_Pred_RF.csv\n"
     ]
    }
   ],
   "source": [
    "# Cell 1: Imports\n",
    "import pandas as pd\n",
    "import joblib\n",
    "import os\n",
    "\n",
    "# Cell 2: Load your dataset\n",
    "df = pd.read_csv(\"All_Curated_Demog_Activity_Sleep5_min_N23.csv\")\n",
    "\n",
    "# Cell 3: Rename HR_normalized → HR_Normalized if needed\n",
    "if \"HR_normalized\" in df.columns and \"HR_Normalized\" not in df.columns:\n",
    "    df.rename(columns={\"HR_normalized\": \"HR_Normalized\"}, inplace=True)\n",
    "    print(\"✅ Renamed 'HR_normalized' to 'HR_Normalized'\")\n",
    "\n",
    "# Cell 4: Prediction helper function\n",
    "def apply_RF_LASMaL_model(df, model_path, encoder_path, feature_columns, pred_col_name):\n",
    "    try:\n",
    "        model = joblib.load(model_path)\n",
    "        encoder = joblib.load(encoder_path)\n",
    "\n",
    "        df_valid = df[df[feature_columns].notnull().all(axis=1)].copy()\n",
    "        X_new = df_valid[feature_columns]\n",
    "\n",
    "        df_valid[pred_col_name] = encoder.inverse_transform(model.predict(X_new))\n",
    "        df[pred_col_name] = df_valid[pred_col_name]\n",
    "\n",
    "        print(f\"✅ Prediction column added: {pred_col_name}\")\n",
    "\n",
    "    except Exception as e:\n",
    "        print(f\"❌ Error applying model: {e}\")\n",
    "\n",
    "# Cell 5: Set paths and parameters\n",
    "model_path = \"savedmodels/models_k3_lasmal_RandomForest/Activity_best_model_lasmal.pkl\"\n",
    "encoder_path = \"savedmodels/models_k3_lasmal_RandomForest/Activity_label_encoder_lasmal.pkl\"\n",
    "feature_columns = ['HR_Normalized', 'Cadence', 'Speed']\n",
    "pred_col_name = \"Activity_Pred_RF\"\n",
    "\n",
    "# Cell 6: Apply model\n",
    "apply_RF_LASMaL_model(df, model_path, encoder_path, feature_columns, pred_col_name)\n",
    "\n",
    "# Cell 7: Save final output\n",
    "output_path = \"All_Curated_Demog_Activity_Sleep5_min_N23_with_Activity_Pred_RF.csv\"\n",
    "df.to_csv(output_path, index=False)\n",
    "print(f\"✅ File saved: {output_path}\")\n"
   ]
  },
  {
   "cell_type": "code",
   "execution_count": 7,
   "id": "92a507d6-4d17-4a85-b2b7-e2a24f7869b2",
   "metadata": {},
   "outputs": [],
   "source": [
    "## Clean Day_label Values and Remove Missing Rows"
   ]
  },
  {
   "cell_type": "code",
   "execution_count": 8,
   "id": "5f559ae7-82ef-4fac-ac9b-9a2ffa2e7176",
   "metadata": {},
   "outputs": [
    {
     "name": "stdout",
     "output_type": "stream",
     "text": [
      "✅ Cleaned and saved: All_Curated_Demog_Activity_Sleep5_min_N23_with_Activity_Pred_RF.csv\n"
     ]
    }
   ],
   "source": [
    "# 📥 Load the CSV file with predicted activity\n",
    "import pandas as pd\n",
    "\n",
    "# Load your file\n",
    "df = pd.read_csv(\"All_Curated_Demog_Activity_Sleep5_min_N23_with_Activity_Pred_RF.csv\")\n",
    "\n",
    "# 🧹 Remove trailing digits from Day_label (e.g., 'PR2' → 'PR')\n",
    "df['Day_label'] = df['Day_label'].astype(str).str.replace(r'\\d+', '', regex=True)\n",
    "\n",
    "# 🗑️ Drop rows where Day_label is empty or was NaN\n",
    "df = df[df['Day_label'].notnull() & (df['Day_label'].str.strip() != '')]\n",
    "\n",
    "# 💾 Save cleaned CSV\n",
    "df.to_csv(\"All_Curated_Demog_Activity_Sleep5_min_N23_with_Activity_Pred_RF.csv\", index=False)\n",
    "print(\"✅ Cleaned and saved: All_Curated_Demog_Activity_Sleep5_min_N23_with_Activity_Pred_RF.csv\")\n"
   ]
  },
  {
   "cell_type": "code",
   "execution_count": null,
   "id": "13854287-2bde-4fc3-af94-ca16991a50a8",
   "metadata": {},
   "outputs": [],
   "source": []
  }
 ],
 "metadata": {
  "kernelspec": {
   "display_name": "Python 3 (ipykernel)",
   "language": "python",
   "name": "python3"
  },
  "language_info": {
   "codemirror_mode": {
    "name": "ipython",
    "version": 3
   },
   "file_extension": ".py",
   "mimetype": "text/x-python",
   "name": "python",
   "nbconvert_exporter": "python",
   "pygments_lexer": "ipython3",
   "version": "3.13.5"
  }
 },
 "nbformat": 4,
 "nbformat_minor": 5
}
