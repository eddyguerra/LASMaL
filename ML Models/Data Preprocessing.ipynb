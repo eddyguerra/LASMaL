{
 "cells": [
  {
   "cell_type": "markdown",
   "id": "3feb5644-929b-4f34-b9ed-b1ada24024e3",
   "metadata": {},
   "source": [
    "## Setting Activity Data as Sedentary, NonSedentary and Driving"
   ]
  },
  {
   "cell_type": "code",
   "execution_count": 4,
   "id": "92371485-c05b-4a4b-8307-3f55d2f6b061",
   "metadata": {},
   "outputs": [
    {
     "name": "stdout",
     "output_type": "stream",
     "text": [
      "✅ Saved as Activity_Stress_data_N24_with_Activity.csv\n"
     ]
    }
   ],
   "source": [
    "import pandas as pd\n",
    "\n",
    "#  Load the local CSV (same folder as notebook)\n",
    "df = pd.read_csv('Activity_Stress_data_N24.csv')\n",
    "\n",
    "#  Define label transformation\n",
    "def label_activity(activity):\n",
    "    if activity in ['Biking', 'Walking', 'Running']:\n",
    "        return 'NonSedentary'\n",
    "    elif activity in ['Work', 'NonWork', 'Sleeping']:\n",
    "        return 'Sedentary'\n",
    "    elif activity == 'Driving':\n",
    "        return 'Driving'\n",
    "    else:\n",
    "        return 'Unknown'\n",
    "\n",
    "#  Create new column\n",
    "df['Activity'] = df['Activity4'].apply(label_activity)\n",
    "\n",
    "#  Save to local file\n",
    "df.to_csv('Activity_Stress_data_N24_with_Activity.csv', index=False)\n",
    "\n",
    "print(\"✅ Saved as Activity_Stress_data_N24_with_Activity.csv\")\n"
   ]
  }
 ],
 "metadata": {
  "kernelspec": {
   "display_name": "Python 3 (ipykernel)",
   "language": "python",
   "name": "python3"
  },
  "language_info": {
   "codemirror_mode": {
    "name": "ipython",
    "version": 3
   },
   "file_extension": ".py",
   "mimetype": "text/x-python",
   "name": "python",
   "nbconvert_exporter": "python",
   "pygments_lexer": "ipython3",
   "version": "3.13.5"
  }
 },
 "nbformat": 4,
 "nbformat_minor": 5
}
